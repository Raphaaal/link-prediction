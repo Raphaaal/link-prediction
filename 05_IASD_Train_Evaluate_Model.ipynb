{
  "nbformat": 4,
  "nbformat_minor": 0,
  "metadata": {
    "jupytext": {
      "encoding": "# -*- coding: utf-8 -*-",
      "formats": "ipynb,py:light"
    },
    "kernelspec": {
      "display_name": "Python 3",
      "language": "python",
      "name": "python3"
    },
    "language_info": {
      "codemirror_mode": {
        "name": "ipython",
        "version": 3
      },
      "file_extension": ".py",
      "mimetype": "text/x-python",
      "name": "python",
      "nbconvert_exporter": "python",
      "pygments_lexer": "ipython3",
      "version": "3.8.4"
    },
    "colab": {
      "name": "05_IASD_Train_Evaluate_Model.ipynb",
      "provenance": [],
      "collapsed_sections": []
    }
  },
  "cells": [
    {
      "cell_type": "markdown",
      "metadata": {
        "id": "ZoaqhgJQC_fC"
      },
      "source": [
        "# Setup\n",
        "\n",
        "Install the necessary libraries in your Colab notebook environment and connect to your hosted Neo4J Sandbox."
      ]
    },
    {
      "cell_type": "code",
      "metadata": {
        "id": "JmHymBmsVYqx"
      },
      "source": [
        "!pip install pyspark heatmapz seaborn"
      ],
      "execution_count": null,
      "outputs": []
    },
    {
      "cell_type": "code",
      "metadata": {
        "id": "pn3TAwvf07Wq"
      },
      "source": [
        "from pyspark.sql import SparkSession\n",
        "import pyspark.sql.functions as F\n",
        "from heatmap import heatmap, corrplot\n",
        "import pandas as pd\n",
        "from sklearn.metrics import roc_curve, auc, precision_recall_curve\n",
        "import matplotlib.pyplot as plt\n",
        "from pyspark.ml.feature import OneHotEncoder, StringIndexer, VectorAssembler\n",
        "from pyspark.ml.feature import IndexToString\n",
        "from pyspark.ml import Pipeline\n",
        "from pyspark.ml.classification import RandomForestClassifier\n",
        "from pyspark.mllib.evaluation import BinaryClassificationMetrics\n",
        "import matplotlib.pyplot as plt\n",
        "import numpy as np\n",
        "from pyspark.sql.functions import udf\n",
        "from pyspark.sql.types import FloatType\n",
        "\n",
        "spark = SparkSession.builder.master(\"local[*]\").getOrCreate()"
      ],
      "execution_count": 2,
      "outputs": []
    },
    {
      "cell_type": "code",
      "metadata": {
        "colab": {
          "base_uri": "https://localhost:8080/"
        },
        "id": "efG3CA7jrfIO",
        "outputId": "69998183-4881-49eb-9939-4ff455b4caef"
      },
      "source": [
        "from google.colab import drive\n",
        "drive.mount('/content/gdrive')"
      ],
      "execution_count": 3,
      "outputs": [
        {
          "output_type": "stream",
          "text": [
            "Mounted at /content/gdrive\n"
          ],
          "name": "stdout"
        }
      ]
    },
    {
      "cell_type": "code",
      "metadata": {
        "id": "tImzcaWsrisK"
      },
      "source": [
        "save_folder = '/content/gdrive/My Drive/IASD_vacations/IASD_link_prediction/link-prediction/notebooks/data/'"
      ],
      "execution_count": 4,
      "outputs": []
    },
    {
      "cell_type": "markdown",
      "metadata": {
        "id": "iz-4iaqtpJHa"
      },
      "source": [
        "Load the CSV files saved in the train/test notebook."
      ]
    },
    {
      "cell_type": "code",
      "metadata": {
        "id": "OHfF6Fz8pJHa"
      },
      "source": [
        "df_train_under = spark.read.csv(save_folder + 'df_train_under_all.csv/*.csv', header=True, inferSchema=True).cache()\n",
        "df_test_under = spark.read.csv(save_folder + 'df_test_under_all.csv/*.csv', header=True, inferSchema=True).cache()"
      ],
      "execution_count": 9,
      "outputs": []
    },
    {
      "cell_type": "markdown",
      "metadata": {
        "id": "rmQYCSg7jL_R"
      },
      "source": [
        "# Exploring the dataset\n",
        "\n",
        "Let's dig into the dataset that we have built.\n",
        "\n",
        "\n"
      ]
    },
    {
      "cell_type": "markdown",
      "metadata": {
        "id": "bhRKsbKkI5NG"
      },
      "source": [
        "- Print the schema of the train dataset (as infered by Spark)"
      ]
    },
    {
      "cell_type": "code",
      "metadata": {
        "id": "3mtYX4DTgEhE"
      },
      "source": [
        "df_train_under.printSchema()"
      ],
      "execution_count": null,
      "outputs": []
    },
    {
      "cell_type": "markdown",
      "metadata": {
        "id": "7mZaFXQyJIcP"
      },
      "source": [
        "Let's explore the features we have in our train dataset."
      ]
    },
    {
      "cell_type": "code",
      "metadata": {
        "id": "zrEBfduVLeWl"
      },
      "source": [
        "df_train_explore = df_train_under.select('label', 'cn', 'pa', 'tn', 'sl') # We only select the feature columns"
      ],
      "execution_count": 10,
      "outputs": []
    },
    {
      "cell_type": "markdown",
      "metadata": {
        "id": "EjWvGkWULVht"
      },
      "source": [
        "- Run the following cell to check the dataframe for NaN or Null rows.\n",
        "\n"
      ]
    },
    {
      "cell_type": "code",
      "metadata": {
        "id": "B6ducSnmLWHQ"
      },
      "source": [
        "for c in df_train_explore.columns:\n",
        "  print(\"Number of mising values for column \", str(c))\n",
        "  print(df_train_explore.filter(F.col(c).isNull() | F.isnan(F.col(c))).count())"
      ],
      "execution_count": null,
      "outputs": []
    },
    {
      "cell_type": "markdown",
      "metadata": {
        "id": "jbwwudCQJiXz"
      },
      "source": [
        "- Print basic statistics for the positive and negative pairs in the train df. Can you already spot some differences between the positive and negative class? "
      ]
    },
    {
      "cell_type": "code",
      "metadata": {
        "id": "5SenZyV_bYTu"
      },
      "source": [
        "df_train_explore.filter(F.col('label') == 0).describe().show()\n",
        "df_train_explore.filter(F.col('label') == 1).describe().show()"
      ],
      "execution_count": null,
      "outputs": []
    },
    {
      "cell_type": "markdown",
      "metadata": {
        "id": "qUSdGY2tVP36"
      },
      "source": [
        "To explore further, and challenge our intuitions, we are going plot correlations between variables.\n",
        "\n",
        "Note : for this step, we transform the Spark DataFrame into a Pandas DataFrame in order to use this function.\n"
      ]
    },
    {
      "cell_type": "code",
      "metadata": {
        "id": "DkRw2t2CK28g"
      },
      "source": [
        "plt.figure(figsize=(8, 8))\n",
        "corrplot(df_train_explore.toPandas().corr(), size_scale=300);"
      ],
      "execution_count": null,
      "outputs": []
    },
    {
      "cell_type": "markdown",
      "metadata": {
        "id": "HlF5Aim5Qoby"
      },
      "source": [
        "- Which feature(s) seem(s) to be the most correlated with our target variable?"
      ]
    },
    {
      "cell_type": "code",
      "metadata": {
        "id": "RpYDIUqtQzWW",
        "cellView": "form"
      },
      "source": [
        "#@title Solution\n",
        "\n",
        "\"\"\"\n",
        "For a pair of nodes, by decreasing order of importance:\n",
        "- the fact that they are in the same community (as detected by the Louvain alg.) and\n",
        "- the number of common neighbors and\n",
        "- the number of total neighbors\n",
        "seem to be slightly correlated with our target variable (label)\n",
        "\"\"\""
      ],
      "execution_count": null,
      "outputs": []
    },
    {
      "cell_type": "markdown",
      "metadata": {
        "id": "7mLGvJPAZj_d"
      },
      "source": [
        "# Training the machine learning model\n",
        "\n",
        "In this notebook we're going to create a machine learning model and train it against the features that we engineered in the previous notebook.\n",
        "\n",
        "We’ll be using a **random forest classifier**. This method is well suited as our data set will be comprised of a mix of strong and weak features. Plus, it is an simple model that does not require a lot of features preprocessing.\n",
        "\n",
        "We will be using a **Spark ML pipeline** to wrap all our data treatments, from preprocessing to prediction. A pipeline is composed of stages (transformers or estimators) that are run in order. \n",
        "\n",
        "Here is an illustration of a pipeline:"
      ]
    },
    {
      "cell_type": "markdown",
      "metadata": {
        "id": "6dmsFsGGZj_i"
      },
      "source": [
        "![image.png](data:image/png;base64,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)\n",
        "\n"
      ]
    },
    {
      "cell_type": "markdown",
      "metadata": {
        "id": "smwSFRSX6fGg"
      },
      "source": [
        "Let's initialize the stages that will compose our pipeline."
      ]
    },
    {
      "cell_type": "code",
      "metadata": {
        "id": "5k3_9e3P6kPH"
      },
      "source": [
        "# We create an empty list that will contain our stages\n",
        "stages = []"
      ],
      "execution_count": 15,
      "outputs": []
    },
    {
      "cell_type": "markdown",
      "metadata": {
        "id": "N31t4LDcZj_e"
      },
      "source": [
        "## Encodings\n",
        "\n",
        "For each pair of nodes (each row), we need to produce a vector containing our encoded features and label to feed it to the Spark ML Lib model. \n",
        "\n"
      ]
    },
    {
      "cell_type": "code",
      "metadata": {
        "id": "dcBy4B-4TI7H"
      },
      "source": [
        "# We only consider the features and label for the model, not the nodes IDs.\n",
        "\n",
        "train_df = df_train_under.drop('node1', 'node2')\n",
        "test_df = df_test_under.drop('node1', 'node2')\n",
        "train_and_test = train_df.union(test_df)"
      ],
      "execution_count": 13,
      "outputs": []
    },
    {
      "cell_type": "markdown",
      "metadata": {
        "id": "oRcdDenx506B"
      },
      "source": [
        "### Label encoding\n",
        "\n",
        "We need to create a mapping (an index) between each class label and a numeric value. For example, if we were doing a classification between three classes \"a\", \"b\", and \"c\" in the label column, we would need a mapping such as:\n",
        "\n",
        "| categoryIndex | originalCategory\n",
        "|---------------|-----------------\n",
        "| 0.0           | a\n",
        "| 2.0           | b\n",
        "| 1.0           | c\n",
        "| 0.0           | a\n",
        "| 0.0           | a\n",
        "| 1.0           | c\n",
        "\n",
        "In our case, it is a bit overkill because our label column is already numeric (0 or 1), but let's do it anyway.\n",
        "\n",
        "- Encode each category of the label column into a new column *indexedLabel*. Add this first treatment to our pipeline stages.\n",
        "\n",
        "**Hint**: use a [StringIndexer](https://spark.apache.org/docs/latest/ml-features#stringindexer)\n"
      ]
    },
    {
      "cell_type": "code",
      "metadata": {
        "id": "ax3IMt8g64C8"
      },
      "source": [
        "# StringIndexer encodes a string column of labels to a column of label indices. \n",
        "# If the input column is numeric, it will be casted to string first.\n",
        "\n",
        "labelIndexer = StringIndexer(inputCol = '...', outputCol = '...').fit(...) # This trained labelIndexer will be the first stage of our pipeline\n",
        "stages += [...] # Add this stage to our pipeline stages list"
      ],
      "execution_count": null,
      "outputs": []
    },
    {
      "cell_type": "code",
      "metadata": {
        "id": "4QwX58F99GaR",
        "cellView": "form"
      },
      "source": [
        "#@title Solution\n",
        "\n",
        "labelIndexer = StringIndexer(inputCol = 'label', outputCol = 'indexedLabel').fit(train_and_test) # We fit on the whole dataset to be sure to capture all possible labels\n",
        "stages += [labelIndexer]"
      ],
      "execution_count": 16,
      "outputs": []
    },
    {
      "cell_type": "markdown",
      "metadata": {
        "id": "uiJsQ4439fdM"
      },
      "source": [
        "For the sake of illustration, let's check how our label column will be encoded when this first stage will be applied in our pipeline."
      ]
    },
    {
      "cell_type": "code",
      "metadata": {
        "id": "jD6srkWi9Q_h"
      },
      "source": [
        "# Each stage in the pipeline will be applied by calling its .transform() method\n",
        "\n",
        "first_stage_result = stages[0].transform(train_df)\n",
        "first_stage_result.show(5)\n",
        "print(stages)"
      ],
      "execution_count": null,
      "outputs": []
    },
    {
      "cell_type": "markdown",
      "metadata": {
        "id": "Wh6Ov6r0TBjM"
      },
      "source": [
        "### Categorical feature encoding\n",
        "\n",
        "Most of our features are numerical (*cn*, *pa*, *tn*) except one (*sl*) that is categorical -  as it expresses if the two nodes belong to the same community (True ou False). This binary variable needs to be encoded to be properly understood by our model.\n",
        "\n",
        "- Encode the *sl* categorical feature into two new binary columns using a One-Hot Encoding.\n",
        "\n",
        "**Hint**: use a [OneHotEncoder](https://spark.apache.org/docs/latest/ml-features#onehotencoder) to encode each category label into a new binary column."
      ]
    },
    {
      "cell_type": "code",
      "metadata": {
        "id": "r5GQRcrfZj_i"
      },
      "source": [
        "# Categorical variable encoding\n",
        "\n",
        "categoricalEncoder = OneHotEncoder(inputCols=[\"...\"], outputCols=[\"...\"]).fit(...) # This trained categoricalEncoder will be the second stage of our pipeline\n",
        "stages += [categoricalEncoder] # Add this stage to our pipeline stages list"
      ],
      "execution_count": null,
      "outputs": []
    },
    {
      "cell_type": "code",
      "metadata": {
        "cellView": "form",
        "id": "tbjSPmnMCW4A"
      },
      "source": [
        "#@title Solution\n",
        "\n",
        "# Categorical variable encoding\n",
        "\n",
        "categoricalEncoder = OneHotEncoder(inputCols=[\"sl\"], outputCols=[\"oneHotEncodedSl\"]).fit(train_and_test) # We fit on the whole dataset to be sure to capture all possible categories\n",
        "stages += [categoricalEncoder]"
      ],
      "execution_count": 18,
      "outputs": []
    },
    {
      "cell_type": "markdown",
      "metadata": {
        "id": "9JIDDuS3Czdx"
      },
      "source": [
        "For the sake of illustration, let's check how our *sl* column will be encoded when these second and third stages will be applied in our pipeline."
      ]
    },
    {
      "cell_type": "code",
      "metadata": {
        "id": "6lqO9gNSCzdz"
      },
      "source": [
        "# Each stage in the pipeline will be applied by calling its .transform() method\n",
        "\n",
        "second_stage_result = stages[1].transform(train_df)\n",
        "second_stage_result.show(5)\n",
        "print(stages)"
      ],
      "execution_count": null,
      "outputs": []
    },
    {
      "cell_type": "markdown",
      "metadata": {
        "id": "G7Erx4TsGK88"
      },
      "source": [
        "### Assemble all features into a single vector\n",
        "\n",
        "We took care of our label and categorical columns. We now need to add our standard numerical columns (*cn*, *pa*, *tn*) to produce a final features vector to feed to the model.\n",
        "\n",
        "- Assemble the *cn*, *pa*, and *tn* columns with the newly created *oneHotEncodedSl* column into a single feature vector.\n",
        "\n",
        "**Hint**: use a [VectorAssembler](https://spark.apache.org/docs/latest/ml-features#vectorassembler)"
      ]
    },
    {
      "cell_type": "code",
      "metadata": {
        "id": "2L7EEx0eHLlw"
      },
      "source": [
        "assemblerInputs = [\"...\", \"...\", \"...\", \"...\"] # Columns we need to assemble\n",
        "\n",
        "# Final assembling of all variables\n",
        "assembler = VectorAssembler(inputCols= ... , outputCol=\"indexedFeatures\") # This transformer will be the third stage of our pipeline\n",
        "stages += [...] # Add this stage to our pipeline stages list"
      ],
      "execution_count": null,
      "outputs": []
    },
    {
      "cell_type": "code",
      "metadata": {
        "cellView": "form",
        "id": "QBzFAluUCR6Q"
      },
      "source": [
        "#@title Solution\n",
        "\n",
        "assemblerInputs = [\"cn\", \"pa\", \"tn\", \"oneHotEncodedSl\"]\n",
        "\n",
        "assembler = VectorAssembler(inputCols=assemblerInputs, outputCol=\"indexedFeatures\")\n",
        "stages += [assembler] "
      ],
      "execution_count": 19,
      "outputs": []
    },
    {
      "cell_type": "markdown",
      "metadata": {
        "id": "wAm7RK26HTrY"
      },
      "source": [
        "For the sake of illustration, let's check how our *sl* column will be encoded when these second and third stages will be applied in our pipeline."
      ]
    },
    {
      "cell_type": "code",
      "metadata": {
        "id": "7HLp6SEtkDX0"
      },
      "source": [
        "# Each stage in the pipeline will be applied by calling its .transform() method\n",
        "\n",
        "third_stage_result = stages[2].transform(second_stage_result)\n",
        "third_stage_result.show(5)\n",
        "print(stages)"
      ],
      "execution_count": null,
      "outputs": []
    },
    {
      "cell_type": "markdown",
      "metadata": {
        "id": "HkDZj68U5Xb9"
      },
      "source": [
        "## Model\n",
        "\n",
        "We can now add the classifier at the end of the ML Lib Pipeline.\n",
        "\n",
        "- Add a stage for the model. \n",
        "\n",
        "**Hint**: feed him the single features vector we have assembled and use the indexed label column that we have created.\n",
        "\n"
      ]
    },
    {
      "cell_type": "code",
      "metadata": {
        "id": "XRWYNYsWZj_i"
      },
      "source": [
        "model = RandomForestClassifier(labelCol=\"...\", featuresCol=\"...\", numTrees=10) # This transformer will be the fourth stage of our pipeline\n",
        "stages += [...] # Add this stage to our pipeline stages list"
      ],
      "execution_count": null,
      "outputs": []
    },
    {
      "cell_type": "code",
      "metadata": {
        "id": "ymcWHiAdJGdE",
        "cellView": "form"
      },
      "source": [
        "#@title Solution\n",
        "\n",
        "model = RandomForestClassifier(labelCol=\"indexedLabel\", featuresCol=\"indexedFeatures\", numTrees=10) # This transformer will be the fourth stage of our pipeline\n",
        "stages += [model] # Add this stage to our pipeline stages list"
      ],
      "execution_count": 21,
      "outputs": []
    },
    {
      "cell_type": "markdown",
      "metadata": {
        "id": "7xyNcqpQJd6M"
      },
      "source": [
        "In the case of a classification with various labels (\"a\", \"b\" and \"c\"), the model would produce an encoded prediction (1.0, 2.0 or 3.0) because it was trained on the *indexedLabel* column. \n",
        "\n",
        "To revert to human-readable predicted class labels, we need to add a final conversion stage from this index to the original label.\n",
        "\n",
        "In our case, it is still a bit overkill, but let's do it anyway.\n",
        "\n",
        "- Run the following cell to convert indexed labels back to original labels"
      ]
    },
    {
      "cell_type": "code",
      "metadata": {
        "id": "qTcUpiVcKkei"
      },
      "source": [
        "labelConverter = IndexToString(inputCol=\"prediction\", outputCol=\"predictedLabel\", labels=labelIndexer.labels)\n",
        "stages += [labelConverter]"
      ],
      "execution_count": 22,
      "outputs": []
    },
    {
      "cell_type": "markdown",
      "metadata": {
        "id": "9eFVZ2wGIxPG"
      },
      "source": [
        "## Pipeline training\n",
        "\n",
        "Let's build our pipeline from our stages list."
      ]
    },
    {
      "cell_type": "code",
      "metadata": {
        "id": "QXoEdbOfKWUB"
      },
      "source": [
        "pipeline = Pipeline(stages=stages)"
      ],
      "execution_count": 23,
      "outputs": []
    },
    {
      "cell_type": "markdown",
      "metadata": {
        "id": "n7fhFR2Kqor6"
      },
      "source": [
        "Train the pipeline"
      ]
    },
    {
      "cell_type": "code",
      "metadata": {
        "id": "bRlMBwWynclS"
      },
      "source": [
        "model = pipeline.fit(train_df)"
      ],
      "execution_count": 24,
      "outputs": []
    },
    {
      "cell_type": "markdown",
      "metadata": {
        "id": "CCPFNVcVrSeu"
      },
      "source": [
        "# Evaluate the model\n",
        "\n",
        "We can evaluate our model on our test set.\n"
      ]
    },
    {
      "cell_type": "markdown",
      "metadata": {
        "id": "7LEVTHskQU8h"
      },
      "source": [
        "We will use a precision-recall curve that better takes into account our class imbalance setting."
      ]
    },
    {
      "cell_type": "markdown",
      "metadata": {
        "id": "EnL07vD8QgGS"
      },
      "source": [
        "- Let's predict if a link should exist between nodes for each pair of our test set. Complete the cell to call our trained model on the test set."
      ]
    },
    {
      "cell_type": "code",
      "metadata": {
        "id": "jBeThMkvaUKq"
      },
      "source": [
        "predictions = model.transform(...)\n",
        "predictions.show(5)"
      ],
      "execution_count": null,
      "outputs": []
    },
    {
      "cell_type": "code",
      "metadata": {
        "id": "wQzDpJgOQefd",
        "cellView": "form"
      },
      "source": [
        "#@title Solution\n",
        "\n",
        "predictions = model.transform(test_df)\n",
        "predictions.show(5)"
      ],
      "execution_count": null,
      "outputs": []
    },
    {
      "cell_type": "markdown",
      "metadata": {
        "id": "HCRThpkVTSeV"
      },
      "source": [
        "To plot the Precision-Recall Curve, for each row of the above dataframe, we are going to need two elements:\n",
        "- *Label column* (target)\n",
        "- *Second element of the probability vector column* (predicted probability of class 1)"
      ]
    },
    {
      "cell_type": "code",
      "metadata": {
        "id": "VDHlYk8kS2wp"
      },
      "source": [
        "# We use a UDF to access the second element of the proability vector column\n",
        "parse_class_proba = udf(lambda x : float(x[1]), FloatType()) \n",
        "\n",
        "pred_and_label = predictions.select(\n",
        "    F.col('label'), \n",
        "    parse_class_proba(F.col('probability')).alias('proba_positive')\n",
        ")\n",
        "\n",
        " # We switch to Pandas to easily plot the curve\n",
        "pred_and_label = pred_and_label.toPandas()\n",
        "\n",
        "# Show what we got\n",
        "pred_and_label[0:5]"
      ],
      "execution_count": null,
      "outputs": []
    },
    {
      "cell_type": "markdown",
      "metadata": {
        "id": "haT5lh-KbpLK"
      },
      "source": [
        "Let's use the following function to plot the Precision-Recall curve.\n",
        "\n",
        "- Call the function to plot the P/R Curve"
      ]
    },
    {
      "cell_type": "code",
      "metadata": {
        "id": "Osw1K7SJToid"
      },
      "source": [
        "def plot_precision_recall_curve(targets, preds): \n",
        "    precision, recall, _ = precision_recall_curve(targets, preds)\n",
        "    # Compute F-score\n",
        "    fscore = (2 * precision * recall) / (precision + recall)\n",
        "    # Locate the index of the largest f score\n",
        "    ix = np.argmax(fscore)\n",
        "    print('Best Threshold=%f, F-Score=%.3f' % (_[ix], fscore[ix]))\n",
        "    plt.figure()\n",
        "    lw = 2\n",
        "    plt.plot(recall, precision, color='darkorange', lw=lw, label='Precision-Recall curve')\n",
        "    plt.plot([0, 1], [len(targets[targets==1]) / len(targets), len(targets[targets==1]) / len(targets)], color='navy', lw=lw, linestyle='--') # No skill classifier\n",
        "    plt.scatter(recall[ix], precision[ix], marker='o', color='black', label='Best') # Best threshold\n",
        "    plt.xlim([-0.02, 1.0])\n",
        "    plt.ylim([0.0, 1.05])\n",
        "    plt.xlabel('Recall')\n",
        "    plt.ylabel('Precision')\n",
        "    plt.title('P-R curve')\n",
        "    plt.legend(loc=\"upper right\")\n",
        "    plt.show()"
      ],
      "execution_count": 27,
      "outputs": []
    },
    {
      "cell_type": "code",
      "metadata": {
        "id": "-U5S2gw8b-Cd"
      },
      "source": [
        "plot_precision_recall_curve(... , ...)"
      ],
      "execution_count": null,
      "outputs": []
    },
    {
      "cell_type": "code",
      "metadata": {
        "id": "o6p0OdPkUG_M",
        "cellView": "form"
      },
      "source": [
        "#@title Solution\n",
        "\n",
        "plot_precision_recall_curve(pred_and_label['label'], pred_and_label['proba_positive'])"
      ],
      "execution_count": null,
      "outputs": []
    },
    {
      "cell_type": "markdown",
      "metadata": {
        "id": "xok8L5snXWM2"
      },
      "source": [
        "- What can we conclude from this Precision-Recall curve?"
      ]
    },
    {
      "cell_type": "code",
      "metadata": {
        "id": "A5h8-PZRcKGS",
        "cellView": "form"
      },
      "source": [
        "#@title Solution\n",
        "\n",
        "\"\"\"\n",
        "The precision drops very quickly when the probaility threshold is decreased. \n",
        "Our model does not perform very well on this highly imbalanced dataset.\n",
        "\n",
        "With the best threshold tradeoff between precision and recall, this model would:\n",
        " \n",
        "- be right roughly 1 out of 3 times when predicting a link (precision)\n",
        "- miss approximately 65% of the links to be predicted (recall)\n",
        "\"\"\""
      ],
      "execution_count": null,
      "outputs": []
    },
    {
      "cell_type": "markdown",
      "metadata": {
        "id": "5AzrmTUgZj_i"
      },
      "source": [
        "To further analyse our model let's see which features are the most influential.\n",
        "\n",
        "- Access the features importances array stored in our trained pipeline."
      ]
    },
    {
      "cell_type": "code",
      "metadata": {
        "id": "jfjiLlLzeT2q"
      },
      "source": [
        "feature_importances = model.stages[3].featureImportances\n",
        "feature_importances_arr = feature_importances.toArray()\n",
        "print(feature_importances_arr)"
      ],
      "execution_count": null,
      "outputs": []
    },
    {
      "cell_type": "markdown",
      "metadata": {
        "id": "XdjS4SGpeumO"
      },
      "source": [
        "- Use the following function to plot a bar chart of the feature importances.\n",
        "\n",
        "**Hint**: features are displayed in the same order as they are assembled."
      ]
    },
    {
      "cell_type": "code",
      "metadata": {
        "id": "7odWG_12Zj_i"
      },
      "source": [
        "def feature_importance(columns, feature_importances_arr):        \n",
        "    display(\"Feature Importance\")\n",
        "    df = pd.DataFrame({\n",
        "        \"Feature\": columns,\n",
        "        \"Importance\": feature_importances_arr\n",
        "    })\n",
        "    df = df.sort_values(\"Importance\", ascending=False)    \n",
        "    ax = df.plot(kind='bar', x='Feature', y='Importance', legend=None)\n",
        "    ax.xaxis.set_label_text(\"\")\n",
        "    plt.tight_layout()\n",
        "    plt.show()"
      ],
      "execution_count": 29,
      "outputs": []
    },
    {
      "cell_type": "code",
      "metadata": {
        "id": "UNYA5ugoe5dI"
      },
      "source": [
        "feature_importance([\"...\", \"...\", \"...\", \"...\"], ...)"
      ],
      "execution_count": null,
      "outputs": []
    },
    {
      "cell_type": "code",
      "metadata": {
        "id": "DfXqmV0yZj_i",
        "cellView": "form"
      },
      "source": [
        "#@title Solution\n",
        "\n",
        "feature_importance([\"cn\", \"pa\", \"tn\", \"sl\"], feature_importances_arr)"
      ],
      "execution_count": null,
      "outputs": []
    },
    {
      "cell_type": "markdown",
      "metadata": {
        "id": "DJMyxgKCtoRX"
      },
      "source": [
        "# Improve the model\n",
        "\n",
        "How would you improve this model?\n"
      ]
    },
    {
      "cell_type": "code",
      "metadata": {
        "id": "gxXjhHyUdlR0",
        "cellView": "form"
      },
      "source": [
        "#@title Potential solutions\n",
        "\n",
        "\"\"\"\n",
        "- Features enginnering (new graph measures, semantic features about Authors, ...)\n",
        "- Hyperparameters tuning (max depth, nb of trees, ...)\n",
        "- Change model (XGBOOST, Neural networks, ...)\n",
        "- More data to train on\n",
        "\"\"\""
      ],
      "execution_count": null,
      "outputs": []
    }
  ]
}