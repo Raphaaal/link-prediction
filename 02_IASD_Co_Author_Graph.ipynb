{
  "nbformat": 4,
  "nbformat_minor": 0,
  "metadata": {
    "jupytext": {
      "formats": "py:light,ipynb",
      "text_representation": {
        "extension": ".py",
        "format_name": "light",
        "format_version": "1.5",
        "jupytext_version": "1.5.2"
      }
    },
    "kernelspec": {
      "display_name": "Python 3",
      "language": "python",
      "name": "python3"
    },
    "language_info": {
      "codemirror_mode": {
        "name": "ipython",
        "version": 3
      },
      "file_extension": ".py",
      "mimetype": "text/x-python",
      "name": "python",
      "nbconvert_exporter": "python",
      "pygments_lexer": "ipython3",
      "version": "3.8.4"
    },
    "colab": {
      "name": "02_IASD_Co-Author_Graph.ipynb",
      "provenance": [],
      "collapsed_sections": [
        "ZoaqhgJQC_fC"
      ]
    }
  },
  "cells": [
    {
      "cell_type": "markdown",
      "metadata": {
        "id": "ZoaqhgJQC_fC"
      },
      "source": [
        "# Setup\n",
        "\n",
        "Install the necessary library in your Colab notebook environment and connect to your hosted Neo4J Sandbox."
      ]
    },
    {
      "cell_type": "code",
      "metadata": {
        "colab": {
          "base_uri": "https://localhost:8080/"
        },
        "id": "JmHymBmsVYqx",
        "outputId": "7a24b29b-1841-4b88-bc0f-2f2edacf7d2c"
      },
      "source": [
        "!pip install neo4j"
      ],
      "execution_count": 1,
      "outputs": [
        {
          "output_type": "stream",
          "text": [
            "Collecting neo4j\n",
            "\u001b[?25l  Downloading https://files.pythonhosted.org/packages/0b/22/9b6d28613e8a564b9e82cf3b871b6df1f58a99cf5ac8a100439f9e895b5f/neo4j-4.3.1.tar.gz (74kB)\n",
            "\r\u001b[K     |████▍                           | 10kB 15.4MB/s eta 0:00:01\r\u001b[K     |████████▊                       | 20kB 19.3MB/s eta 0:00:01\r\u001b[K     |█████████████▏                  | 30kB 10.4MB/s eta 0:00:01\r\u001b[K     |█████████████████▌              | 40kB 8.3MB/s eta 0:00:01\r\u001b[K     |██████████████████████          | 51kB 5.6MB/s eta 0:00:01\r\u001b[K     |██████████████████████████▎     | 61kB 6.2MB/s eta 0:00:01\r\u001b[K     |██████████████████████████████▊ | 71kB 6.6MB/s eta 0:00:01\r\u001b[K     |████████████████████████████████| 81kB 4.3MB/s \n",
            "\u001b[?25hRequirement already satisfied: pytz in /usr/local/lib/python3.7/dist-packages (from neo4j) (2018.9)\n",
            "Building wheels for collected packages: neo4j\n",
            "  Building wheel for neo4j (setup.py) ... \u001b[?25l\u001b[?25hdone\n",
            "  Created wheel for neo4j: filename=neo4j-4.3.1-cp37-none-any.whl size=99332 sha256=f63579823510dc2301ae80622540c4ed4defd664c3d53a99b78754f5d2a816a9\n",
            "  Stored in directory: /root/.cache/pip/wheels/23/13/72/0cc2405898bd9a7baef6512df3abf83873da9ba48c04acc818\n",
            "Successfully built neo4j\n",
            "Installing collected packages: neo4j\n",
            "Successfully installed neo4j-4.3.1\n"
          ],
          "name": "stdout"
        }
      ]
    },
    {
      "cell_type": "code",
      "metadata": {
        "id": "fhmJ1QEdC-4e"
      },
      "source": [
        "ip = \"54.84.82.113\"\n",
        "bolt_port = \"7687\"\n",
        "username = \"neo4j\"\n",
        "password = \"balloon-missions-acceleration\""
      ],
      "execution_count": 2,
      "outputs": []
    },
    {
      "cell_type": "code",
      "metadata": {
        "id": "RI-e7X2UuOgR",
        "colab": {
          "base_uri": "https://localhost:8080/"
        },
        "outputId": "d6a726ec-bab2-4c04-8081-049c310ec792"
      },
      "source": [
        "from neo4j import GraphDatabase\n",
        "\n",
        "driver = GraphDatabase.driver(\"bolt://\" + ip + \":\" + bolt_port, auth=(username, password))\n",
        "\n",
        "print(driver.address) # your-sandbox-ip:your-sandbox-bolt-port"
      ],
      "execution_count": 3,
      "outputs": [
        {
          "output_type": "stream",
          "text": [
            "54.84.82.113:7687\n"
          ],
          "name": "stdout"
        }
      ]
    },
    {
      "cell_type": "markdown",
      "metadata": {
        "id": "N30fwjQwh2RH"
      },
      "source": [
        "# Build the co-author graph\n",
        "\n",
        "We are going to build an inferred graph of co-authors based on *Author*s that have collaborated on the same papers. \n",
        "\n",
        "We are also going to store a property on the *CO_AUTHOR* relationship to indicate the year of their first collaboration and another one to indicate the number of their collaborations.\n",
        "\n",
        "Complete the query below to create the CO_AUTHOR relationships, each one with *year* and *collaborations* properties. Feel free to experiment in the Neo4J Browser first.\n",
        "\n",
        "Note: we will be using the [apoc.periodic.iterate](https://neo4j.com/labs/apoc/4.1/overview/apoc.periodic/apoc.periodic.iterate/) procedure to commit in batches to the DB.\n"
      ]
    },
    {
      "cell_type": "code",
      "metadata": {
        "id": "GGhn02U_Lpt7"
      },
      "source": [
        "query = \"\"\"\n",
        "CALL apoc.periodic.iterate(\n",
        "\n",
        "  \" \n",
        "  /*\n",
        "   Step 1: Co-author pattern matching\n",
        "  */\n",
        "\n",
        "  MATCH ... // Use \"a1\" and \"a2\" naming to handle the matched Authors nodes\n",
        "  WITH a1, a2, paper \n",
        "  ORDER BY ... // Ensure we consider the oldest collab between authors to get the year of their first collaboration \n",
        "  RETURN a1, a2, ... AS year, ... AS nb_collaborations \n",
        "  \",\n",
        "\n",
        "  \"\n",
        "  /* \n",
        "  Step 2: Create CO_AUTHOR relationships and set properties\n",
        "  */\n",
        "  \n",
        "  MERGE ... // Use a \"coauthor\" naming to handle the CO_AUTHOR relationship\n",
        "  SET coauthor.collaborations = ...\n",
        "  \",\n",
        "\n",
        "  {batchSize: 100})\n",
        "\"\"\""
      ],
      "execution_count": null,
      "outputs": []
    },
    {
      "cell_type": "code",
      "metadata": {
        "id": "pKVzQdV3IdGf",
        "cellView": "form"
      },
      "source": [
        "#@title Hint\n",
        "\n",
        "query = \"\"\"\n",
        "CALL apoc.periodic.iterate(\n",
        "\n",
        "  \"\n",
        "  MATCH (a1: ... )<-[...]-(paper)-[...]->(a2: ...)\n",
        "  WITH a1, a2, paper \n",
        "  ORDER BY a1, paper.year  \n",
        "  RETURN a1, a2, collect(paper)[0].year AS year, ... AS nb_collaborations\n",
        "  \",\n",
        "\n",
        "  \"\n",
        "  MERGE (a1)-[...]-(a2)\n",
        "  SET coauthor.collaborations = ... \n",
        "  \",\n",
        "\n",
        "  {batchSize: 100})\n",
        "\"\"\""
      ],
      "execution_count": null,
      "outputs": []
    },
    {
      "cell_type": "code",
      "metadata": {
        "id": "6TaJRe28Ibup",
        "cellView": "form"
      },
      "source": [
        "#@title Solution\n",
        "\n",
        "query = \"\"\"\n",
        "CALL apoc.periodic.iterate(\n",
        "\n",
        "  \"\n",
        "  MATCH (a1:Author)<-[:AUTHOR]-(paper)-[:AUTHOR]->(a2:Author)\n",
        "  WITH a1, a2, paper \n",
        "  ORDER BY a1, paper.year\n",
        "  RETURN a1, a2, collect(paper)[0].year AS year, COUNT(*) AS nb_collaborations\n",
        "  \",\n",
        "\n",
        "  \"\n",
        "  MERGE (a1)-[coauthor:CO_AUTHOR {year: year}]-(a2)\n",
        "  SET coauthor.collaborations = nb_collaborations\n",
        "  \",\n",
        "\n",
        "  {batchSize: 100})\n",
        "\"\"\""
      ],
      "execution_count": 4,
      "outputs": []
    },
    {
      "cell_type": "code",
      "metadata": {
        "colab": {
          "base_uri": "https://localhost:8080/"
        },
        "id": "wePaRMloh2RI",
        "outputId": "b0692cfb-7944-4808-9719-58414f0d9fc0"
      },
      "source": [
        "with driver.session() as session:\n",
        "  result = session.run(query)\n",
        "  for row in result:\n",
        "    print(row)"
      ],
      "execution_count": 5,
      "outputs": [
        {
          "output_type": "stream",
          "text": [
            "<Record batches=3105 total=310448 timeTaken=21 committedOperations=310448 failedOperations=0 failedBatches=0 retries=0 errorMessages={} batch={'total': 3105, 'committed': 3105, 'failed': 0, 'errors': {}} operations={'total': 310448, 'committed': 310448, 'failed': 0, 'errors': {}} wasTerminated=False failedParams={} updateStatistics={'nodesDeleted': 0, 'labelsAdded': 0, 'relationshipsCreated': 155224, 'nodesCreated': 0, 'propertiesSet': 465672, 'relationshipsDeleted': 0, 'labelsRemoved': 0}>\n"
          ],
          "name": "stdout"
        }
      ]
    },
    {
      "cell_type": "markdown",
      "metadata": {
        "id": "bem-0sybQjV2"
      },
      "source": [
        "# Queries"
      ]
    },
    {
      "cell_type": "markdown",
      "metadata": {
        "id": "r0ldzcmNlKdi"
      },
      "source": [
        "- Check the previous query results by using this new \"CO_AUTHOR\" relationship. \n",
        "\n",
        "Previous query: Find the Author with whom \"Salvatore Greco\" has co-authored the most with.\n",
        "\n",
        "Hint: use the *collaboration* property."
      ]
    },
    {
      "cell_type": "code",
      "metadata": {
        "id": "fXRwOIjWlIsN",
        "cellView": "form"
      },
      "source": [
        "#@title Solution\n",
        "\n",
        "MATCH (a:Author {name: \"Salvatore Greco\"})-[r:CO_AUTHOR]-(c:Author) \n",
        "RETURN a.name, c.name, r.collaborations as collabs\n",
        "ORDER BY collabs DESC\n",
        "LIMIT 1"
      ],
      "execution_count": null,
      "outputs": []
    },
    {
      "cell_type": "markdown",
      "metadata": {
        "id": "9ll6HWCq2opI"
      },
      "source": [
        "- Recommend a new author to collaborate with Salvatore Greco based on the collaborations of his co-authors. \n",
        "\n",
        "Hint: find and rank Salvatore's co-authors' own co-authors, with whom Salvatore has not collaborated yet."
      ]
    },
    {
      "cell_type": "code",
      "metadata": {
        "id": "abPaBcGU24UY",
        "cellView": "form"
      },
      "source": [
        "#@title Solution\n",
        "\n",
        "MATCH (a:Author {name:'Salvatore Greco'})-[r1:CO_AUTHOR]->(ca:Author)-[r2:CO_AUTHOR]->(caofca:Author)\n",
        "WITH a, caofca, r1.collaborations as nb_ca_collabs, r2.collaborations as nb_caofca_collabs\n",
        "WHERE a <> caofca AND NOT (a)-[:CO_AUTHOR]-(caofca)\n",
        "RETURN caofca.name, nb_ca_collabs, nb_caofca_collabs \n",
        "ORDER BY nb_ca_collabs DESC, nb_caofca_collabs DESC \n",
        "LIMIT 1"
      ],
      "execution_count": null,
      "outputs": []
    },
    {
      "cell_type": "markdown",
      "metadata": {
        "id": "AkVlfroBh2RI"
      },
      "source": [
        "Now that we have created our co-author graph, we want to come up with an approach that will allow us to predict future links (relationships) that will be created between people."
      ]
    }
  ]
}